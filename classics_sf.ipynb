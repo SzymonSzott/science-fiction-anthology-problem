{
 "metadata": {
  "language_info": {
   "codemirror_mode": {
    "name": "ipython",
    "version": 3
   },
   "file_extension": ".py",
   "mimetype": "text/x-python",
   "name": "python",
   "nbconvert_exporter": "python",
   "pygments_lexer": "ipython3",
   "version": 3
  },
  "orig_nbformat": 2,
  "kernelspec": {
   "name": "python_defaultSpec_1597003128206",
   "display_name": "Python 3.7.6 64-bit ('base': conda)"
  }
 },
 "nbformat": 4,
 "nbformat_minor": 2,
 "cells": [
  {
   "cell_type": "markdown",
   "metadata": {},
   "source": [
    "# Parsing the list of short stories\n",
    "\n",
    "Solving the [science fiction anthology problem](https://auxiliarymemory.com/2018/08/18/the-mathematics-of-buying-science-fiction-anthologies/) first requires importing the [list of classic short stories v2](https://csfquery.com/SearchResult?mincite=8&category=story&sortby=7&list=1).\n",
    "\n"
   ]
  },
  {
   "cell_type": "code",
   "execution_count": 1,
   "metadata": {},
   "outputs": [],
   "source": [
    "import requests, bs4\n",
    "import pandas as pd\n",
    "\n",
    "res = requests.get('https://csfquery.com/SearchResult?mincite=8&category=story&sortby=7&list=1') #Download the webpage\n",
    "res.raise_for_status() #Check that download was OK\n",
    "soup = bs4.BeautifulSoup(res.text) #Parse HTML\n",
    "classics_table = soup.find(\"table\", attrs={\"class\": \"table pt-3\"}) #Find the table with the list of stories\n",
    "classics_table_data = classics_table.tbody.find_all(\"a\", attrs={\"class\": \"a-csf\"}) #Find all links in the table\n",
    "\n",
    "df = pd.DataFrame(columns=['story_author', 'story_title', 'story_link']) #Create dataframe for storing the list of stories\n",
    "for i in classics_table_data: #Loop over the links found previously \n",
    "    if \"title.cgi\" in i['href']:\n",
    "        story_link = i['href']\n",
    "        story_title = i.text\n",
    "    elif \"ea.cgi\" in i['href']:\n",
    "        story_author = i.text\n",
    "        df.loc[len(df)]=([story_author,story_title,story_link]) #Append dataframe with author, title, story link\n",
    "\n",
    "df = df.groupby(['story_title','story_link'])['story_author'].apply(', '.join).reset_index() # Merge entries for stories with more than one author"
   ]
  },
  {
   "cell_type": "markdown",
   "metadata": {},
   "source": [
    "# Creating a list of anthologies\n",
    "\n",
    "Having a database (`df`) of short stories, we now need to obtain the list of anthologies from ISFDB.org containing at least one story."
   ]
  },
  {
   "cell_type": "code",
   "execution_count": 2,
   "metadata": {
    "tags": []
   },
   "outputs": [],
   "source": [
    "main_df = pd.DataFrame(columns=['story_author', 'story_title', 'story_link','publication_title','publication_link']) #Create empty dataframe which will store a mapping between stories and anthologies\n",
    "for index, story_row in df.iterrows(): #Loop over all stories\n",
    "    story_author = story_row['story_author']\n",
    "    story_title = story_row['story_title']\n",
    "    story_link = story_row['story_link']\n",
    "    story_link += '+1' #Change the ISFDB link to \"Do not display translations\"\n",
    "    res = requests.get(story_link)\n",
    "    res.raise_for_status()\n",
    "    soup = bs4.BeautifulSoup(res.text)\n",
    "    publications_table = soup.find(\"table\", attrs={\"class\": \"publications\"}) #Find the table listing all publications of a story\n",
    "    publications_df = pd.read_html(str(publications_table), header=0)[0] #Read the HTML table into a dataframe (there could be more tables, but we're interested in the first, indexed 0)\n",
    "    publications_table_links = publications_table.find_all(\"a\") #Extract all HTML links from the table\n",
    "    publications_links = [] \n",
    "    for l in publications_table_links:\n",
    "        if \"pl.cgi\" in l['href']:\n",
    "            publications_links.append(l['href'])\n",
    "    publications_df['publications_links']=publications_links #Add column with links to anthologies to dataframe\n",
    "    # publications_df = publications_df[publications_df.Type.isin(['anth','omni'])] #Only anthologies, collections, and omnibuses are of interest, drop others\n",
    "    publications_df = publications_df.drop_duplicates(subset='Title', keep=\"first\") #Removing duplicates by exactle title match (this could be improved)\n",
    "    for index2, publication_row in publications_df.iterrows(): #Iterate over all publications\n",
    "        publication_title = publication_row['Title']\n",
    "        publication_link = publication_row['publications_links']\n",
    "        # print(\"Adding to main_df: \", story_title, \" in \", publication_title)\n",
    "        main_df.loc[len(main_df)]=([story_author,story_title,story_link,publication_title,publication_link]) #Update main database, each entry (row) is a story-to-anthology mapping"
   ]
  },
  {
   "cell_type": "markdown",
   "metadata": {},
   "source": [
    "ISFDB is missing the contents of two notable anthologies (perhaps because they are academic textbooks):\n",
    "\n",
    "- [Sense of Wonder](http://www.isfdb.org/cgi-bin/pl.cgi?354562)\n",
    "- [Science Fiction: Stories and Contexts](http://www.isfdb.org/cgi-bin/pl.cgi?612736)\n",
    "\n",
    "We need to add them based on their listings at the [Classics of Science Fiction](https://csfquery.com/)."
   ]
  },
  {
   "cell_type": "code",
   "execution_count": 3,
   "metadata": {
    "tags": []
   },
   "outputs": [],
   "source": [
    "def add_stories_from_anthology(publication_title, publication_link):\n",
    "    res = requests.get(publication_link) #Download the webpage\n",
    "    res.raise_for_status() #Check that download was OK\n",
    "    soup = bs4.BeautifulSoup(res.text) #Parse HTML\n",
    "    new_stories_table = soup.find(\"table\", attrs={\"class\": \"table\"}) #Find the table with the list of stories\n",
    "    new_stories_df = pd.read_html(str(new_stories_table), header=0)[0] #Read the HTML table into a dataframe (there could be more tables, but we're interested in the first, indexed 0)\n",
    "    new_stories_df.columns=['#','Title','Author','Year']\n",
    "    new_stories_df.Author = new_stories_df.Author.str.replace('  ', ' ') #Sanitize list of authors\n",
    "    new_stories_df = new_stories_df[new_stories_df.Title.isin(df.story_title.to_list())]\n",
    "    for index, new_stories_row in new_stories_df.iterrows(): #Iterate over all new stories to add\n",
    "        story_author = new_stories_row.Author\n",
    "        story_title = new_stories_row.Title\n",
    "        story_link = df.story_link[(df.story_title==story_title)&(df.story_author==story_author)].values[0]\n",
    "        # print(\"Adding to main_df:\", story_title, \"in\", publication_title, \"with link:\", story_link)\n",
    "        main_df.loc[len(main_df)]=([story_author,story_title,story_link,publication_title,publication_link]) #Update main database, each entry (row) is a story-to-anthology mapping \n",
    "\n",
    "add_stories_from_anthology('Sense of Wonder', 'https://csfquery.com/cworks?sortby=2&cid=37')\n",
    "add_stories_from_anthology('Science Fiction: Stories and Contexts','https://csfquery.com/cworks?sortby=2&cid=49')"
   ]
  },
  {
   "cell_type": "markdown",
   "metadata": {},
   "source": [
    "At this point you may want to save this mapping into a CSV file."
   ]
  },
  {
   "cell_type": "code",
   "execution_count": 4,
   "metadata": {
    "tags": []
   },
   "outputs": [],
   "source": [
    "main_df.to_csv('main.csv')"
   ]
  },
  {
   "cell_type": "markdown",
   "metadata": {},
   "source": [
    "If you're interested you can list the anthologies with the most classic stories:"
   ]
  },
  {
   "cell_type": "code",
   "execution_count": 5,
   "metadata": {},
   "outputs": [
    {
     "output_type": "execute_result",
     "data": {
      "text/plain": "Sense of Wonder                                                                   34\nThe Wesleyan Anthology of Science Fiction                                         23\nThe Big Book of Science Fiction: The Ultimate Collection                          22\nScience Fiction: Stories and Contexts                                             22\nScience Fiction Hall of Fame: The Greatest Science Fiction Stories of All Time    17\nThe Science Fiction Hall of Fame, Volume I                                        17\nThe Science Fiction Hall of Fame, Volume One                                      17\nThe Science Fiction Hall of Fame, Volume One, 1929-1964                           17\nThe Science Fiction Hall of Fame                                                  17\nThe Road to Science Fiction: Volume 3: From Heinlein to Here                      16\nName: publication_title, dtype: int64"
     },
     "metadata": {},
     "execution_count": 5
    }
   ],
   "source": [
    "main_df['publication_title'].value_counts().head(10)"
   ]
  },
  {
   "cell_type": "markdown",
   "metadata": {},
   "source": [
    "# Removing duplicate books\n",
    "\n",
    "As you can see, duplicate entries still remain: The Science Fiction Hall of Fame, Vol. I is listed under five alternative titles. The code below removes anthologies which are identical in terms of the classic short stories they contain."
   ]
  },
  {
   "cell_type": "code",
   "execution_count": 6,
   "metadata": {
    "tags": []
   },
   "outputs": [
    {
     "output_type": "stream",
     "name": "stdout",
     "text": "Initial unique books: 1563\nReduced books to: 401\n"
    }
   ],
   "source": [
    "all_books=main_df['publication_title'].unique()\n",
    "print(\"Initial unique books:\",len(all_books))\n",
    "reduced_main_df = main_df.copy()\n",
    "for i in range(len(all_books)):\n",
    "    first_book = all_books[i]\n",
    "    stories_in_first = reduced_main_df.story_link[reduced_main_df.publication_title == first_book].to_list()\n",
    "    if stories_in_first:\n",
    "        stories_in_first.sort()\n",
    "        # if (len(stories_in_first) < 3): \n",
    "        #     continue\n",
    "        for j in range(i+1,len(all_books)):\n",
    "            second_book = all_books[j]\n",
    "            stories_in_second = reduced_main_df.story_link[reduced_main_df.publication_title == second_book].to_list()\n",
    "            if stories_in_second:\n",
    "                stories_in_second.sort()\n",
    "                if stories_in_first == stories_in_second:\n",
    "                    # print (first_book, \"vs\", second_book)\n",
    "                    reduced_main_df = reduced_main_df[reduced_main_df.publication_title != second_book]\n",
    "print(\"Reduced books to:\", len(reduced_main_df['publication_title'].unique()))\n"
   ]
  },
  {
   "cell_type": "code",
   "execution_count": 7,
   "metadata": {
    "tags": []
   },
   "outputs": [
    {
     "output_type": "execute_result",
     "data": {
      "text/plain": "Sense of Wonder                                                              34\nThe Wesleyan Anthology of Science Fiction                                    23\nScience Fiction: Stories and Contexts                                        22\nThe Big Book of Science Fiction: The Ultimate Collection                     22\nThe Science Fiction Hall of Fame, Volume One                                 17\nThe Road to Science Fiction #3: From Heinlein to Here                        16\nScience Fiction: The Science Fiction Research Association Anthology          16\nThe Prentice Hall Anthology of Science Fiction and Fantasy                   15\nThe Best of the Nebulas                                                      12\nThe Locus Awards: Thirty Years of the Best in Science Fiction and Fantasy    12\nName: publication_title, dtype: int64"
     },
     "metadata": {},
     "execution_count": 7
    }
   ],
   "source": [
    "reduced_main_df['publication_title'].value_counts().head(10)"
   ]
  },
  {
   "cell_type": "markdown",
   "metadata": {},
   "source": [
    "# Greedy algorithm\n",
    "\n",
    "One approach to solving the [set cover problem](https://en.wikipedia.org/wiki/Set_cover_problem) is the greedy algorithm implemented below."
   ]
  },
  {
   "cell_type": "code",
   "execution_count": 8,
   "metadata": {
    "tags": []
   },
   "outputs": [
    {
     "output_type": "stream",
     "name": "stdout",
     "text": "Chosen book:  Sense of Wonder\nChosen stories:  ['\"Arena\" by Fredric Brown', '\"Bears Discover Fire\" by Terry Bisson', '\"Black Destroyer\" by A. E. van Vogt', '\"Blood Music\" by Greg Bear', '\"Bloodchild\" by Octavia E. Butler', '\"The Cold Equations\" by Tom Godwin', '\"The Country of the Kind\" by Damon Knight', '\"Day Million\" by Frederik Pohl', '\"First Contact\" by Murray Leinster', '\"Fondly Fahrenheit\" by Alfred Bester', '\"The Game of Rat and Dragon\" by Cordwainer Smith', '\"Hell Is the Absence of God\" by Ted Chiang', '\"Jeffty Is Five\" by Harlan Ellison', '\"The Little Black Bag\" by C. M. Kornbluth', '\"Lobsters\" by Charles Stross', '\"The Lucky Strike\" by Kim Stanley Robinson', '\"A Martian Odyssey\" by Stanley G. Weinbaum', '\"Microcosmic God\" by Theodore Sturgeon', '\"The Mountains of Mourning\" by Lois McMaster Bujold', '\"Nightfall\" by Isaac Asimov', '\"The Only Neat Thing to Do\" by James Tiptree, Jr.', '\"Or All the Seas with Oysters\" by Avram Davidson', '\"Passengers\" by Robert Silverberg', '\"The Persistence of Vision\" by John Varley', '\"Rachel in Love\" by Pat Murphy', '\"A Rose for Ecclesiastes\" by Roger Zelazny', '\"The Sentinel\" by Arthur C. Clarke', '\"Seven American Nights\" by Gene Wolfe', '\"Souls\" by Joanna Russ', '\"Surface Tension\" by James Blish', '\"That Only a Mother\" by Judith Merril', '\"Think Like a Dinosaur\" by James Patrick Kelly', '\"The Ugly Chickens\" by Howard Waldrop', '\"Who Goes There?\" by John W. Campbell, Jr.']\nTotal stories selected:  34\nChosen book:  The Wesleyan Anthology of Science Fiction\nChosen stories:  ['\"\"Repent, Harlequin!\" Said the Ticktockman\" by Harlan Ellison', '\"Air Raid\" by John Varley', '\"All You Zombies—\" by Robert A. Heinlein', '\"And I Awoke and Found Me Here on the Cold Hill\\'s Side\" by James Tiptree, Jr.', '\"Aye, and Gomorrah …\" by Samuel R. Delany', '\"Burning Chrome\" by William Gibson', '\"Coming Attraction\" by Fritz Leiber', '\"Desertion\" by Clifford D. Simak', '\"Nine Lives\" by Ursula K. Le Guin', '\"Speech Sounds\" by Octavia E. Butler', '\"The Star\" by H. G. Wells', '\"There Will Come Soft Rains\" by Ray Bradbury', '\"Thunder and Roses\" by Theodore Sturgeon', '\"We Can Remember It for You Wholesale\" by Philip K. Dick', '\"When It Changed\" by Joanna Russ']\nTotal stories selected:  49\nChosen book:  Science Fiction: Stories and Contexts\nChosen stories:  ['\"At the Rialto\" by Connie Willis', '\"Flowers for Algernon\" by Daniel Keyes', '\"For a Breath I Tarry\" by Roger Zelazny', '\"The Girl Who Was Plugged In\" by James Tiptree, Jr.', '\"Mimsy Were the Borogoves\" by Henry Kuttner, C. L. Moore', '\"The Nine Billion Names of God\" by Arthur C. Clarke', '\"Second Variety\" by Philip K. Dick', '\"Story of Your Life\" by Ted Chiang', '\"Vaster Than Empires and More Slow\" by Ursula K. Le Guin', '\"Vintage Season\" by Henry Kuttner, C. L. Moore']\nTotal stories selected:  59\nChosen book:  The Big Book of Science Fiction: The Ultimate Collection\nChosen stories:  ['\"Sandkings\" by George R. R. Martin', '\"Snow\" by John Crowley', '\"Swarm\" by Bruce Sterling', '\"The Last Question\" by Isaac Asimov', '\"The Man Who Lost the Sea\" by Theodore Sturgeon', '\"The Star\" by Arthur C. Clarke', '\"The Voices of Time\" by J. G. Ballard']\nTotal stories selected:  66\nChosen book:  The Science Fiction Hall of Fame, Volume IV\nChosen stories:  ['\"A Meeting with Medusa\" by Arthur C. Clarke', '\"Born with the Dead\" by Robert Silverberg', '\"Of Mist, and Grass, and Sand\" by Vonda N. McIntyre', '\"The Day Before the Revolution\" by Ursula K. Le Guin', '\"The Death of Doctor Island\" by Gene Wolfe', '\"The Queen of Air and Darkness\" by Poul Anderson']\nTotal stories selected:  72\nChosen book:  The World Treasury of Science Fiction\nChosen stories:  ['\"Harrison Bergeron\" by Kurt Vonnegut, Jr.', '\"Inconstant Moon\" by Larry Niven', '\"The Fifth Head of Cerberus\" by Gene Wolfe']\nTotal stories selected:  75\nChosen book:  Hugo and Nebula Award Winners from Asimov's Science Fiction\nChosen stories:  ['\"Beggars in Spain\" by Nancy Kress', '\"Fire Watch\" by Connie Willis', '\"Press ENTER ■\" by John Varley']\nTotal stories selected:  78\nChosen book:  Her Smoke Rose Up Forever\nChosen stories:  ['\"Houston, Houston, Do You Read?\" by James Tiptree, Jr.', '\"The Screwfly Solution\" by James Tiptree, Jr.', '\"The Women Men Don\\'t See\" by James Tiptree, Jr.']\nTotal stories selected:  81\nChosen book:  Survival Printout\nChosen stories:  ['\"I Have No Mouth, and I Must Scream\" by Harlan Ellison', '\"Scanners Live in Vain\" by Cordwainer Smith']\nTotal stories selected:  83\nChosen book:  What If? Volume 3\nChosen stories:  ['\"Light of Other Days\" by Bob Shaw', '\"The Star Pit\" by Samuel R. Delany']\nTotal stories selected:  85\nChosen book:  Impossible Things\nChosen stories:  ['\"Even the Queen\" by Connie Willis', '\"The Last of the Winnebagos\" by Connie Willis']\nTotal stories selected:  87\nChosen book:  Nebula Award Stories 5\nChosen stories:  ['\"A Boy and His Dog\" by Harlan Ellison', '\"Time Considered as a Helix of Semi-Precious Stones\" by Samuel R. Delany']\nTotal stories selected:  89\nChosen book:  GRRM: A RRetrospective\nChosen stories:  ['\"A Song for Lya\" by George R. R. Martin', '\"The Way of Cross and Dragon\" by George R. R. Martin']\nTotal stories selected:  91\nChosen book:  Beyond the Rift\nChosen stories:  ['\"The Island\" by Peter Watts', '\"The Things\" by Peter Watts']\nTotal stories selected:  93\nChosen book:  The Magazine of Fantasy & Science Fiction, November 1987\nChosen stories:  ['\"Buffalo Gals, Won\\'t You Come Out Tonight\" by Ursula K. Le Guin']\nTotal stories selected:  94\nChosen book:  Novelties & Souvenirs: Collected Short Fiction\nChosen stories:  ['\"Great Work of Time\" by John Crowley']\nTotal stories selected:  95\nChosen book:  The Best of the Best Volume 2: 20 Years of the Best Short Science Fiction Novels\nChosen stories:  ['\"Sailing to Byzantium\" by Robert Silverberg']\nTotal stories selected:  96\nChosen book:  From Here to Forever\nChosen stories:  ['\"The Moon Moth\" by Jack Vance']\nTotal stories selected:  97\nChosen book:  Isaac Asimov's Science Fiction Magazine, April 1986\nChosen stories:  ['\"R & R\" by Lucius Shepard']\nTotal stories selected:  98\nChosen book:  Machines That Think: The Best Science Fiction Stories About Robots and Computers\nChosen stories:  ['\"The Bicentennial Man\" by Isaac Asimov']\nTotal stories selected:  99\nChosen book:  The Merchant and the Alchemist's Gate\nChosen stories:  ['\"The Merchant and the Alchemist\\'s Gate\" by Ted Chiang']\nTotal stories selected:  100\nChosen book:  Asimov's Science Fiction, October-November 2011\nChosen stories:  ['\"The Man Who Bridged the Mist\" by Kij Johnson']\nTotal stories selected:  101\nAll selected books:  ['Sense of Wonder', 'The Wesleyan Anthology of Science Fiction', 'Science Fiction: Stories and Contexts', 'The Big Book of Science Fiction: The Ultimate Collection', 'The Science Fiction Hall of Fame, Volume IV', 'The World Treasury of Science Fiction', \"Hugo and Nebula Award Winners from Asimov's Science Fiction\", 'Her Smoke Rose Up Forever', 'Survival Printout', 'What If? Volume 3', 'Impossible Things', 'Nebula Award Stories 5', 'GRRM: A RRetrospective', 'Beyond the Rift', 'The Magazine of Fantasy & Science Fiction, November 1987', 'Novelties & Souvenirs: Collected Short Fiction', 'The Best of the Best Volume 2: 20 Years of the Best Short Science Fiction Novels', 'From Here to Forever', \"Isaac Asimov's Science Fiction Magazine, April 1986\", 'Machines That Think: The Best Science Fiction Stories About Robots and Computers', \"The Merchant and the Alchemist's Gate\", \"Asimov's Science Fiction, October-November 2011\"]\nTotal number of selected books:  22\n"
    }
   ],
   "source": [
    "import numpy as np\n",
    "remaining_df = reduced_main_df.copy() #Create working copy of main database\n",
    "remaining_df['story_desc']=remaining_df['story_title'] + ' by ' + remaining_df['story_author'] #Add new column of unique story description (the story title is not enough, there are two stories titled \"The Star\")\n",
    "selected_books = []\n",
    "selected_stories = []\n",
    "while (np.unique(np.array(selected_stories)).size < len(df.story_title)): #Loop until we have covered all stories\n",
    "    top_book = remaining_df['publication_title'].value_counts().head(1).index.values[0] #Find book with most stories\n",
    "    print(\"Chosen book: \",top_book)\n",
    "    selected_books.append(top_book)\n",
    "    stories_in_top_book = remaining_df[remaining_df.publication_title==top_book].story_desc.tolist()\n",
    "    selected_stories.extend(stories_in_top_book)\n",
    "    print(\"Chosen stories: \",stories_in_top_book)\n",
    "    remaining_df=remaining_df[~remaining_df.story_desc.isin(stories_in_top_book)] #Remove from database all entries of the stories we have selected\n",
    "    print(\"Total stories selected: \",np.unique(np.array(selected_stories)).size)\n",
    "print(\"All selected books: \",selected_books)\n",
    "print(\"Total number of selected books: \",len(selected_books))"
   ]
  },
  {
   "cell_type": "markdown",
   "metadata": {},
   "source": [
    "# Eliminating books without unique stories\n",
    "\n",
    "An alternative approach for solving the science fiction anthology problem is to go through all the books (sorted by ascending number of stories), keeping those which contain at least a unique story and removing those that do not."
   ]
  },
  {
   "cell_type": "code",
   "execution_count": 9,
   "metadata": {
    "tags": []
   },
   "outputs": [
    {
     "output_type": "stream",
     "name": "stdout",
     "text": "\"R & R\" by Lucius Shepard is unique to Isaac Asimov's Science Fiction Magazine, April 1986\n\"The Man Who Bridged the Mist\" by Kij Johnson is unique to Asimov's Science Fiction, October-November 2011\n\"The Island\" by Peter Watts is unique to Beyond the Rift\n\"Buffalo Gals, Won't You Come Out Tonight\" by Ursula K. Le Guin is unique to The Fantasy Hall of Fame\n\"The Star Pit\" by Samuel R. Delany is unique to Modern Classic Short Novels of Science Fiction\n\"The Merchant and the Alchemist's Gate\" by Ted Chiang is unique to The Very Best of Fantasy & Science Fiction: 60th Anniversary Anthology\n\"A Song for Lya\" by George R. R. Martin is unique to The Hugo Winners, Volume Three\n\"The Last of the Winnebagos\" by Connie Willis is unique to Nebula Award-Winning Novellas\n\"The Moon Moth\" by Jack Vance is unique to From Here to Forever\n\"The Screwfly Solution\" by James Tiptree, Jr. is unique to The Oxford Book of Science Fiction Stories\n\"Beggars in Spain\" by Nancy Kress is unique to Hugo and Nebula Award Winners from Asimov's Science Fiction\n\"Great Work of Time\" by John Crowley is unique to A Science Fiction Omnibus\n\"Born with the Dead\" by Robert Silverberg is unique to The Science Fiction Hall of Fame, Volume IV\n\"The Fifth Head of Cerberus\" by Gene Wolfe is unique to The World Treasury of Science Fiction\n\"The Bicentennial Man\" by Isaac Asimov is unique to The Arbor House Treasury of Modern Science Fiction\n\"Even the Queen\" by Connie Willis is unique to The Locus Awards: Thirty Years of the Best in Science Fiction and Fantasy\n\"A Boy and His Dog\" by Harlan Ellison is unique to The Best of the Nebulas\n\"I Have No Mouth, and I Must Scream\" by Harlan Ellison is unique to The Road to Science Fiction #3: From Heinlein to Here\n\"Scanners Live in Vain\" by Cordwainer Smith is unique to The Science Fiction Hall of Fame, Volume One\n\"Snow\" by John Crowley is unique to The Big Book of Science Fiction: The Ultimate Collection\n\"At the Rialto\" by Connie Willis is unique to Science Fiction: Stories and Contexts\n\"There Will Come Soft Rains\" by Ray Bradbury is unique to The Wesleyan Anthology of Science Fiction\n\"Black Destroyer\" by A. E. van Vogt is unique to Sense of Wonder\nTotal books containing all stories: 23\n"
    }
   ],
   "source": [
    "eliminated_df = reduced_main_df.copy()\n",
    "eliminated_df['story_desc']=eliminated_df['story_title'] + ' by ' + eliminated_df['story_author'] #Add new column of unique story description \n",
    "books = eliminated_df['publication_title'].value_counts(ascending=True).index.to_list() #Books ordered in ascending count of stories\n",
    "for book in books:\n",
    "    stories = eliminated_df.story_desc[eliminated_df.publication_title==book].to_list()\n",
    "    toEliminate = True\n",
    "    for story in stories:\n",
    "        if eliminated_df[eliminated_df.story_desc==story].shape[0]==1:\n",
    "            print(story,\"is unique to\",book)\n",
    "            toEliminate = False\n",
    "            break\n",
    "    if toEliminate:\n",
    "        eliminated_df = eliminated_df[eliminated_df.publication_title != book]\n",
    "print(\"Total books containing all stories:\",len(eliminated_df.publication_title.unique()))"
   ]
  },
  {
   "cell_type": "markdown",
   "metadata": {},
   "source": [
    "# Puctured greedy algorithm\n",
    "\n",
    "Let's see if we can improve on the greedy algorithm by going down a different book selection path. We can force the different selection path by removing singular books as selected by the original greedy algorithm."
   ]
  },
  {
   "cell_type": "code",
   "execution_count": 10,
   "metadata": {
    "tags": []
   },
   "outputs": [
    {
     "output_type": "stream",
     "name": "stdout",
     "text": "Books selected by greedy algorithm: ['Sense of Wonder', 'The Wesleyan Anthology of Science Fiction', 'Science Fiction: Stories and Contexts', 'The Big Book of Science Fiction: The Ultimate Collection', 'The Science Fiction Hall of Fame, Volume IV', 'The World Treasury of Science Fiction', \"Hugo and Nebula Award Winners from Asimov's Science Fiction\", 'Her Smoke Rose Up Forever', 'Survival Printout', 'What If? Volume 3', 'Impossible Things', 'Nebula Award Stories 5', 'GRRM: A RRetrospective', 'Beyond the Rift', 'The Magazine of Fantasy & Science Fiction, November 1987', 'Novelties & Souvenirs: Collected Short Fiction', 'The Best of the Best Volume 2: 20 Years of the Best Short Science Fiction Novels', 'From Here to Forever', \"Isaac Asimov's Science Fiction Magazine, April 1986\", 'Machines That Think: The Best Science Fiction Stories About Robots and Computers', \"The Merchant and the Alchemist's Gate\", \"Asimov's Science Fiction, October-November 2011\"]\nTotal number of selected books:  22\n\nExcluded book\t\t\tNumber of books\nSense of Wonder \t\t\t 25\nThe Wesleyan Anthology of Science Fiction \t\t\t 22\nScience Fiction: Stories and Contexts \t\t\t 22\nThe Big Book of Science Fiction: The Ultimate Collection \t\t\t 24\nThe Science Fiction Hall of Fame, Volume IV \t\t\t 21\nThe World Treasury of Science Fiction \t\t\t 21\nHugo and Nebula Award Winners from Asimov's Science Fiction \t\t\t 21\nHer Smoke Rose Up Forever \t\t\t 21\nSurvival Printout \t\t\t 21\nWhat If? Volume 3 \t\t\t 21\nImpossible Things \t\t\t 21\nNebula Award Stories 5 \t\t\t 22\nGRRM: A RRetrospective \t\t\t 23\nBeyond the Rift \t\t\t 23\nThe Magazine of Fantasy & Science Fiction, November 1987 \t\t\t 22\nNovelties & Souvenirs: Collected Short Fiction \t\t\t 21\nThe Best of the Best Volume 2: 20 Years of the Best Short Science Fiction Novels \t\t\t 20\nFrom Here to Forever \t\t\t 23\n"
    }
   ],
   "source": [
    "import numpy as np\n",
    "remaining_df = reduced_main_df.copy() #Create working copy of main database\n",
    "remaining_df['story_desc']=remaining_df['story_title'] + ' by ' + remaining_df['story_author'] #Add new column of unique story description (the story title is not enough, there are two stories titled \"The Star\")\n",
    "selected_books = []\n",
    "selected_stories = []\n",
    "while (np.unique(np.array(selected_stories)).size < len(df.story_title)): #Loop until we have covered all stories\n",
    "    top_book = remaining_df['publication_title'].value_counts().head(1).index.values[0] #Find book with most stories\n",
    "    selected_books.append(top_book)\n",
    "    stories_in_top_book = remaining_df[remaining_df.publication_title==top_book].story_desc.tolist()\n",
    "    selected_stories.extend(stories_in_top_book)\n",
    "    remaining_df=remaining_df[~remaining_df.story_desc.isin(stories_in_top_book)] #Remove from database all entries of the stories we have selected\n",
    "print(\"Books selected by greedy algorithm:\",selected_books)\n",
    "print(\"Total number of selected books: \",len(selected_books))\n",
    "greedy_books = selected_books\n",
    "greedy_stories = selected_stories\n",
    "\n",
    "print(\"\\nExcluded book\\t\\t\\tNumber of books\")\n",
    "for book in greedy_books:\n",
    "    remaining_df = reduced_main_df.copy() #Create working copy of main database\n",
    "    remaining_df['story_desc']=remaining_df['story_title'] + ' by ' + remaining_df['story_author'] #Add new column of unique story description (the story title is not enough, there are two stories titled \"The Star\")\n",
    "    remaining_df = remaining_df[remaining_df.publication_title != book]\n",
    "    selected_books = []\n",
    "    selected_stories = []\n",
    "    while (np.unique(np.array(selected_stories)).size < len(df.story_title)): #Loop until we have covered all stories\n",
    "        try:\n",
    "            top_book = remaining_df['publication_title'].value_counts().head(1).index.values[0] #Find book with most stories\n",
    "        except (IndexError):\n",
    "            break\n",
    "        # print(\"Chosen book: \",top_book)\n",
    "        selected_books.append(top_book)\n",
    "        stories_in_top_book = remaining_df[remaining_df.publication_title==top_book].story_desc.tolist()\n",
    "        selected_stories.extend(stories_in_top_book)\n",
    "        # print(\"Chosen stories: \",stories_in_top_book)\n",
    "        remaining_df=remaining_df[~remaining_df.story_desc.isin(stories_in_top_book)] #Remove from database all entries of the stories we have selected\n",
    "        # print(\"Total stories selected: \",np.unique(np.array(selected_stories)).size)\n",
    "    # print(\"All selected books: \",selected_books)\n",
    "    if (np.unique(np.array(selected_stories)).size<len(df.story_title)):\n",
    "        break\n",
    "    print(book,\"\\t\\t\\t\",len(selected_books))"
   ]
  },
  {
   "cell_type": "code",
   "execution_count": 16,
   "metadata": {
    "tags": []
   },
   "outputs": [
    {
     "output_type": "stream",
     "name": "stdout",
     "text": "Books selected by greedy algorithm: ['Sense of Wonder', 'The Wesleyan Anthology of Science Fiction', 'Science Fiction: Stories and Contexts', 'The Big Book of Science Fiction: The Ultimate Collection', 'The Arbor House Treasury of Modern Science Fiction', 'The Locus Awards: Thirty Years of the Best in Science Fiction and Fantasy', 'The World Treasury of Science Fiction', 'The Science Fiction Century', 'The Arbor House Treasury of Great Science Fiction Short Novels', 'Survival Printout', 'The Science Fiction Hall of Fame Volume Four', 'Beyond the Rift', 'Nebula Award-Winning Novellas', 'The Magazine of Fantasy & Science Fiction, November 1987', 'Analog Science Fiction/Science Fact, June 1977', 'From Here to Forever', \"Asimov's Science Fiction, October-November 2011\", 'Future on Ice', 'The Very Best of Fantasy & Science Fiction: 60th Anniversary Anthology', \"Isaac Asimov's Science Fiction Magazine, April 1986\", 'GRRM: A RRetrospective']\nTotal number of selected books:  21\n\nExcluded book\t\t\tNumber of books\nSense of Wonder \t\t\t 25\nThe Wesleyan Anthology of Science Fiction \t\t\t 22\nScience Fiction: Stories and Contexts \t\t\t 22\nThe Big Book of Science Fiction: The Ultimate Collection \t\t\t 24\nThe Arbor House Treasury of Modern Science Fiction \t\t\t 23\nThe Locus Awards: Thirty Years of the Best in Science Fiction and Fantasy \t\t\t 22\nThe World Treasury of Science Fiction \t\t\t 21\nThe Science Fiction Century \t\t\t 20\nThe Arbor House Treasury of Great Science Fiction Short Novels \t\t\t 22\nSurvival Printout \t\t\t 21\nThe Science Fiction Hall of Fame Volume Four \t\t\t 22\nBeyond the Rift \t\t\t 23\nNebula Award-Winning Novellas \t\t\t 21\nThe Magazine of Fantasy & Science Fiction, November 1987 \t\t\t 22\nAnalog Science Fiction/Science Fact, June 1977 \t\t\t 21\nFrom Here to Forever \t\t\t 23\n"
    }
   ],
   "source": [
    "# Greedy with puncturing round 2\n",
    "remaining_df = reduced_main_df.copy() #Create working copy of main database\n",
    "remaining_df = remaining_df[remaining_df.publication_title != 'The Science Fiction Hall of Fame, Volume IV']\n",
    "remaining_df['story_desc']=remaining_df['story_title'] + ' by ' + remaining_df['story_author'] #Add new column of unique story description (the story title is not enough, there are two stories titled \"The Star\")\n",
    "selected_books = []\n",
    "selected_stories = []\n",
    "while (np.unique(np.array(selected_stories)).size < len(df.story_title)): #Loop until we have covered all stories\n",
    "    top_book = remaining_df['publication_title'].value_counts().head(1).index.values[0] #Find book with most stories\n",
    "    selected_books.append(top_book)\n",
    "    stories_in_top_book = remaining_df[remaining_df.publication_title==top_book].story_desc.tolist()\n",
    "    selected_stories.extend(stories_in_top_book)\n",
    "    remaining_df=remaining_df[~remaining_df.story_desc.isin(stories_in_top_book)] #Remove from database all entries of the stories we have selected\n",
    "print(\"Books selected by greedy algorithm:\",selected_books)\n",
    "print(\"Total number of selected books: \",len(selected_books))\n",
    "greedy_books = selected_books\n",
    "greedy_stories = selected_stories\n",
    "\n",
    "print(\"\\nExcluded book\\t\\t\\tNumber of books\")\n",
    "for book in greedy_books:\n",
    "    remaining_df = reduced_main_df.copy() #Create working copy of main database\n",
    "    remaining_df['story_desc']=remaining_df['story_title'] + ' by ' + remaining_df['story_author'] #Add new column of unique story description (the story title is not enough, there are two stories titled \"The Star\")\n",
    "    remaining_df = remaining_df[remaining_df.publication_title != book]\n",
    "    selected_books = []\n",
    "    selected_stories = []\n",
    "    while (np.unique(np.array(selected_stories)).size < len(df.story_title)): #Loop until we have covered all stories\n",
    "        try:\n",
    "            top_book = remaining_df['publication_title'].value_counts().head(1).index.values[0] #Find book with most stories\n",
    "        except (IndexError):\n",
    "            break\n",
    "        # print(\"Chosen book: \",top_book)\n",
    "        selected_books.append(top_book)\n",
    "        stories_in_top_book = remaining_df[remaining_df.publication_title==top_book].story_desc.tolist()\n",
    "        selected_stories.extend(stories_in_top_book)\n",
    "        # print(\"Chosen stories: \",stories_in_top_book)\n",
    "        remaining_df=remaining_df[~remaining_df.story_desc.isin(stories_in_top_book)] #Remove from database all entries of the stories we have selected\n",
    "        # print(\"Total stories selected: \",np.unique(np.array(selected_stories)).size)\n",
    "    # print(\"All selected books: \",selected_books)\n",
    "    if (np.unique(np.array(selected_stories)).size<len(df.story_title)):\n",
    "        break\n",
    "    print(book,\"\\t\\t\\t\",len(selected_books))\n",
    "\n"
   ]
  },
  {
   "cell_type": "markdown",
   "metadata": {},
   "source": [
    "# Current best solution\n",
    "\n",
    "The current best solution is to remove *The Science Fiction Hall of Fame, Volume IV* (or another from some other books listed above) from the list of available books which allows the greedy algorithm to find a better (local) minimum, but no less than 21 books."
   ]
  },
  {
   "cell_type": "code",
   "execution_count": 17,
   "metadata": {
    "tags": []
   },
   "outputs": [
    {
     "output_type": "stream",
     "name": "stdout",
     "text": "Sense of Wonder \n\n- \"Arena\" by Fredric Brown\n- \"Bears Discover Fire\" by Terry Bisson\n- \"Black Destroyer\" by A. E. van Vogt\n- \"Blood Music\" by Greg Bear\n- \"Bloodchild\" by Octavia E. Butler\n- \"The Cold Equations\" by Tom Godwin\n- \"The Country of the Kind\" by Damon Knight\n- \"Day Million\" by Frederik Pohl\n- \"First Contact\" by Murray Leinster\n- \"Fondly Fahrenheit\" by Alfred Bester\n- \"The Game of Rat and Dragon\" by Cordwainer Smith\n- \"Hell Is the Absence of God\" by Ted Chiang\n- \"Jeffty Is Five\" by Harlan Ellison\n- \"The Little Black Bag\" by C. M. Kornbluth\n- \"Lobsters\" by Charles Stross\n- \"The Lucky Strike\" by Kim Stanley Robinson\n- \"A Martian Odyssey\" by Stanley G. Weinbaum\n- \"Microcosmic God\" by Theodore Sturgeon\n- \"The Mountains of Mourning\" by Lois McMaster Bujold\n- \"Nightfall\" by Isaac Asimov\n- \"The Only Neat Thing to Do\" by James Tiptree, Jr.\n- \"Or All the Seas with Oysters\" by Avram Davidson\n- \"Passengers\" by Robert Silverberg\n- \"The Persistence of Vision\" by John Varley\n- \"Rachel in Love\" by Pat Murphy\n- \"A Rose for Ecclesiastes\" by Roger Zelazny\n- \"The Sentinel\" by Arthur C. Clarke\n- \"Seven American Nights\" by Gene Wolfe\n- \"Souls\" by Joanna Russ\n- \"Surface Tension\" by James Blish\n- \"That Only a Mother\" by Judith Merril\n- \"Think Like a Dinosaur\" by James Patrick Kelly\n- \"The Ugly Chickens\" by Howard Waldrop\n- \"Who Goes There?\" by John W. Campbell, Jr.\n\nRunning story total: 34 \n\nThe Wesleyan Anthology of Science Fiction \n\n- \"\"Repent, Harlequin!\" Said the Ticktockman\" by Harlan Ellison\n- \"Air Raid\" by John Varley\n- \"All You Zombies—\" by Robert A. Heinlein\n- \"And I Awoke and Found Me Here on the Cold Hill's Side\" by James Tiptree, Jr.\n- \"Aye, and Gomorrah …\" by Samuel R. Delany\n- \"Burning Chrome\" by William Gibson\n- \"Coming Attraction\" by Fritz Leiber\n- \"Desertion\" by Clifford D. Simak\n- \"Nine Lives\" by Ursula K. Le Guin\n- \"Speech Sounds\" by Octavia E. Butler\n- \"The Star\" by H. G. Wells\n- \"There Will Come Soft Rains\" by Ray Bradbury\n- \"Thunder and Roses\" by Theodore Sturgeon\n- \"We Can Remember It for You Wholesale\" by Philip K. Dick\n- \"When It Changed\" by Joanna Russ\n\nRunning story total: 49 \n\nScience Fiction: Stories and Contexts \n\n- \"At the Rialto\" by Connie Willis\n- \"Flowers for Algernon\" by Daniel Keyes\n- \"For a Breath I Tarry\" by Roger Zelazny\n- \"The Girl Who Was Plugged In\" by James Tiptree, Jr.\n- \"Mimsy Were the Borogoves\" by Henry Kuttner, C. L. Moore\n- \"The Nine Billion Names of God\" by Arthur C. Clarke\n- \"Second Variety\" by Philip K. Dick\n- \"Story of Your Life\" by Ted Chiang\n- \"Vaster Than Empires and More Slow\" by Ursula K. Le Guin\n- \"Vintage Season\" by Henry Kuttner, C. L. Moore\n\nRunning story total: 59 \n\nThe Big Book of Science Fiction: The Ultimate Collection \n\n- \"Sandkings\" by George R. R. Martin\n- \"Snow\" by John Crowley\n- \"Swarm\" by Bruce Sterling\n- \"The Last Question\" by Isaac Asimov\n- \"The Man Who Lost the Sea\" by Theodore Sturgeon\n- \"The Star\" by Arthur C. Clarke\n- \"The Voices of Time\" by J. G. Ballard\n\nRunning story total: 66 \n\nThe Arbor House Treasury of Modern Science Fiction \n\n- \"Light of Other Days\" by Bob Shaw\n- \"Of Mist, and Grass, and Sand\" by Vonda N. McIntyre\n- \"The Bicentennial Man\" by Isaac Asimov\n- \"The Queen of Air and Darkness\" by Poul Anderson\n- \"The Women Men Don't See\" by James Tiptree, Jr.\n\nRunning story total: 71 \n\nThe Locus Awards: Thirty Years of the Best in Science Fiction and Fantasy \n\n- \"Even the Queen\" by Connie Willis\n- \"The Day Before the Revolution\" by Ursula K. Le Guin\n- \"The Death of Doctor Island\" by Gene Wolfe\n- \"The Way of Cross and Dragon\" by George R. R. Martin\n\nRunning story total: 75 \n\nThe World Treasury of Science Fiction \n\n- \"A Meeting with Medusa\" by Arthur C. Clarke\n- \"Harrison Bergeron\" by Kurt Vonnegut, Jr.\n- \"Inconstant Moon\" by Larry Niven\n- \"The Fifth Head of Cerberus\" by Gene Wolfe\n\nRunning story total: 79 \n\nThe Science Fiction Century \n\n- \"Beggars in Spain\" by Nancy Kress\n- \"Fire Watch\" by Connie Willis\n- \"Great Work of Time\" by John Crowley\n\nRunning story total: 82 \n\nThe Arbor House Treasury of Great Science Fiction Short Novels \n\n- \"Born with the Dead\" by Robert Silverberg\n- \"Houston, Houston, Do You Read?\" by James Tiptree, Jr.\n- \"The Star Pit\" by Samuel R. Delany\n\nRunning story total: 85 \n\nSurvival Printout \n\n- \"I Have No Mouth, and I Must Scream\" by Harlan Ellison\n- \"Scanners Live in Vain\" by Cordwainer Smith\n\nRunning story total: 87 \n\nThe Science Fiction Hall of Fame Volume Four \n\n- \"A Boy and His Dog\" by Harlan Ellison\n- \"Time Considered as a Helix of Semi-Precious Stones\" by Samuel R. Delany\n\nRunning story total: 89 \n\nBeyond the Rift \n\n- \"The Island\" by Peter Watts\n- \"The Things\" by Peter Watts\n\nRunning story total: 91 \n\nNebula Award-Winning Novellas \n\n- \"Sailing to Byzantium\" by Robert Silverberg\n- \"The Last of the Winnebagos\" by Connie Willis\n\nRunning story total: 93 \n\nThe Magazine of Fantasy & Science Fiction, November 1987 \n\n- \"Buffalo Gals, Won't You Come Out Tonight\" by Ursula K. Le Guin\n\nRunning story total: 94 \n\nAnalog Science Fiction/Science Fact, June 1977 \n\n- \"The Screwfly Solution\" by James Tiptree, Jr.\n\nRunning story total: 95 \n\nFrom Here to Forever \n\n- \"The Moon Moth\" by Jack Vance\n\nRunning story total: 96 \n\nAsimov's Science Fiction, October-November 2011 \n\n- \"The Man Who Bridged the Mist\" by Kij Johnson\n\nRunning story total: 97 \n\nFuture on Ice \n\n- \"Press ENTER ■\" by John Varley\n\nRunning story total: 98 \n\nThe Very Best of Fantasy & Science Fiction: 60th Anniversary Anthology \n\n- \"The Merchant and the Alchemist's Gate\" by Ted Chiang\n\nRunning story total: 99 \n\nIsaac Asimov's Science Fiction Magazine, April 1986 \n\n- \"R & R\" by Lucius Shepard\n\nRunning story total: 100 \n\nGRRM: A RRetrospective \n\n- \"A Song for Lya\" by George R. R. Martin\n\nRunning story total: 101 \n\nSelected books:\n- Sense of Wonder\n- The Wesleyan Anthology of Science Fiction\n- Science Fiction: Stories and Contexts\n- The Big Book of Science Fiction: The Ultimate Collection\n- The Arbor House Treasury of Modern Science Fiction\n- The Locus Awards: Thirty Years of the Best in Science Fiction and Fantasy\n- The World Treasury of Science Fiction\n- The Science Fiction Century\n- The Arbor House Treasury of Great Science Fiction Short Novels\n- Survival Printout\n- The Science Fiction Hall of Fame Volume Four\n- Beyond the Rift\n- Nebula Award-Winning Novellas\n- The Magazine of Fantasy & Science Fiction, November 1987\n- Analog Science Fiction/Science Fact, June 1977\n- From Here to Forever\n- Asimov's Science Fiction, October-November 2011\n- Future on Ice\n- The Very Best of Fantasy & Science Fiction: 60th Anniversary Anthology\n- Isaac Asimov's Science Fiction Magazine, April 1986\n- GRRM: A RRetrospective\n\nNumber of selected books:  21\n"
    }
   ],
   "source": [
    "import numpy as np\n",
    "remaining_df = reduced_main_df.copy() #Create working copy of main database\n",
    "remaining_df = remaining_df[remaining_df.publication_title != \"The Science Fiction Hall of Fame, Volume IV\"] #Remove one book\n",
    "remaining_df['story_desc']=remaining_df['story_title'] + ' by ' + remaining_df['story_author'] #Add new column of unique story description (the story title is not enough, there are two stories titled \"The Star\")\n",
    "selected_books = []\n",
    "selected_stories = []\n",
    "while (np.unique(np.array(selected_stories)).size < len(df.story_title)): #Loop until we have covered all stories\n",
    "    top_book = remaining_df['publication_title'].value_counts().head(1).index.values[0] #Find book with most stories\n",
    "    print(top_book,\"\\n\")\n",
    "    selected_books.append(top_book)\n",
    "    stories_in_top_book = remaining_df[remaining_df.publication_title==top_book].story_desc.tolist()\n",
    "    selected_stories.extend(stories_in_top_book)\n",
    "    for story in stories_in_top_book:\n",
    "        print(\"-\",story)\n",
    "    remaining_df=remaining_df[~remaining_df.story_desc.isin(stories_in_top_book)] #Remove from database all entries of the stories we have selected\n",
    "    print(\"\\nRunning story total:\",np.unique(np.array(selected_stories)).size,\"\\n\")\n",
    "print(\"Selected books:\")\n",
    "for book in selected_books:\n",
    "    print(\"-\",book)\n",
    "print(\"\\nNumber of selected books: \",len(selected_books))"
   ]
  }
 ]
}