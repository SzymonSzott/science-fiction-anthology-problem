{
 "metadata": {
  "language_info": {
   "codemirror_mode": {
    "name": "ipython",
    "version": 3
   },
   "file_extension": ".py",
   "mimetype": "text/x-python",
   "name": "python",
   "nbconvert_exporter": "python",
   "pygments_lexer": "ipython3",
   "version": 3
  },
  "orig_nbformat": 2,
  "kernelspec": {
   "name": "python_defaultSpec_1596709529353",
   "display_name": "Python 3.7.6 64-bit ('base': conda)"
  }
 },
 "nbformat": 4,
 "nbformat_minor": 2,
 "cells": [
  {
   "cell_type": "markdown",
   "metadata": {},
   "source": [
    "# Parsing the list of short stories\n",
    "\n",
    "Solving the [science fiction anthology problem](https://auxiliarymemory.com/2018/08/18/the-mathematics-of-buying-science-fiction-anthologies/) first requires importing the [list of classic short stories v2](https://csfquery.com/SearchResult?mincite=8&category=story&sortby=7&list=1).\n",
    "\n"
   ]
  },
  {
   "cell_type": "code",
   "execution_count": 93,
   "metadata": {},
   "outputs": [],
   "source": [
    "import requests, bs4\n",
    "import pandas as pd\n",
    "\n",
    "res = requests.get('https://csfquery.com/SearchResult?mincite=8&category=story&sortby=7&list=1') #Download the webpage\n",
    "res.raise_for_status() #Check that download was OK\n",
    "soup = bs4.BeautifulSoup(res.text) #Parse HTML\n",
    "classics_table = soup.find(\"table\", attrs={\"class\": \"table pt-3\"}) #Find the table with the list of stories\n",
    "classics_table_data = classics_table.tbody.find_all(\"a\", attrs={\"class\": \"a-csf\"}) #Find all links in the table\n",
    "\n",
    "df = pd.DataFrame(columns=['story_author', 'story_title', 'story_link']) #Create dataframe for storing the list of stories\n",
    "for i in classics_table_data: #Loop over the links found previously \n",
    "    if \"title.cgi\" in i['href']:\n",
    "        story_link = i['href']\n",
    "        story_title = i.text\n",
    "    elif \"ea.cgi\" in i['href']:\n",
    "        story_author = i.text\n",
    "        df.loc[len(df)]=([story_author,story_title,story_link]) #Append dataframe with author, title, story link\n",
    "\n",
    "df = df.groupby(['story_title','story_link'])['story_author'].apply(', '.join).reset_index() # Merge entries for stories with more than one author"
   ]
  },
  {
   "cell_type": "markdown",
   "metadata": {},
   "source": [
    "# Creating a list of anthologies\n",
    "\n",
    "Having a database (`df`) of short stories, we now need to obtain the list of anthologies from ISFDB.org containing at least one story."
   ]
  },
  {
   "cell_type": "code",
   "execution_count": 94,
   "metadata": {
    "tags": []
   },
   "outputs": [],
   "source": [
    "main_df = pd.DataFrame(columns=['story_author', 'story_title', 'story_link','publication_title','publication_link']) #Create empty dataframe which will store a mapping between stories and anthologies\n",
    "for index, story_row in df.iterrows(): #Loop over all stories\n",
    "    story_author = story_row['story_author']\n",
    "    story_title = story_row['story_title']\n",
    "    story_link = story_row['story_link']\n",
    "    story_link += '+1' #Change the ISFDB link to \"Do not display translations\"\n",
    "    res = requests.get(story_link)\n",
    "    res.raise_for_status()\n",
    "    soup = bs4.BeautifulSoup(res.text)\n",
    "    publications_table = soup.find(\"table\", attrs={\"class\": \"publications\"}) #Find the table listing all publications of a story\n",
    "    publications_df = pd.read_html(str(publications_table), header=0)[0] #Read the HTML table into a dataframe (there could be more tables, but we're interested in the first, indexed 0)\n",
    "    publications_table_links = publications_table.find_all(\"a\") #Extract all HTML links from the table\n",
    "    publications_links = [] \n",
    "    for l in publications_table_links:\n",
    "        if \"pl.cgi\" in l['href']:\n",
    "            publications_links.append(l['href'])\n",
    "    publications_df['publications_links']=publications_links #Add column with links to anthologies to dataframe\n",
    "    publications_df = publications_df[publications_df.Type.isin(['anth','coll','omni'])] #Only anthologies, collections, and omnibuses are of interest, drop others\n",
    "    publications_df = publications_df.drop_duplicates(subset='Title', keep=\"first\") #Removing duplicates by exactle title match (this could be improved)\n",
    "    for index2, publication_row in publications_df.iterrows(): #Iterate over all publications\n",
    "        publication_title = publication_row['Title']\n",
    "        publication_link = publication_row['publications_links']\n",
    "        # print(\"Adding to main_df: \", story_title, \" in \", publication_title)\n",
    "        main_df.loc[len(main_df)]=([story_author,story_title,story_link,publication_title,publication_link]) #Update main database, each entry (row) is a story-to-anthology mapping"
   ]
  },
  {
   "cell_type": "markdown",
   "metadata": {},
   "source": [
    "ISFDB is missing the contents of two notable anthologies (perhaps because they are academic textbooks):\n",
    "\n",
    "- [Sense of Wonder](http://www.isfdb.org/cgi-bin/pl.cgi?354562)\n",
    "- [Science Fiction: Stories and Contexts](http://www.isfdb.org/cgi-bin/pl.cgi?612736)\n",
    "\n",
    "We need to add them based on their listings at the [Classics of Science Fiction](https://csfquery.com/)."
   ]
  },
  {
   "cell_type": "code",
   "execution_count": 95,
   "metadata": {
    "tags": []
   },
   "outputs": [],
   "source": [
    "def add_stories_from_anthology(publication_title, publication_link):\n",
    "    res = requests.get(publication_link) #Download the webpage\n",
    "    res.raise_for_status() #Check that download was OK\n",
    "    soup = bs4.BeautifulSoup(res.text) #Parse HTML\n",
    "    new_stories_table = soup.find(\"table\", attrs={\"class\": \"table\"}) #Find the table with the list of stories\n",
    "    new_stories_df = pd.read_html(str(new_stories_table), header=0)[0] #Read the HTML table into a dataframe (there could be more tables, but we're interested in the first, indexed 0)\n",
    "    new_stories_df.columns=['#','Title','Author','Year']\n",
    "    new_stories_df.Author = new_stories_df.Author.str.replace('  ', ' ') #Sanitize list of authors\n",
    "    new_stories_df = new_stories_df[new_stories_df.Title.isin(df.story_title.to_list())]\n",
    "    for index, new_stories_row in new_stories_df.iterrows(): #Iterate over all new stories to add\n",
    "        story_author = new_stories_row.Author\n",
    "        story_title = new_stories_row.Title\n",
    "        story_link = df.story_link[(df.story_title==story_title)&(df.story_author==story_author)].values[0]\n",
    "        # print(\"Adding to main_df:\", story_title, \"in\", publication_title, \"with link:\", story_link)\n",
    "        main_df.loc[len(main_df)]=([story_author,story_title,story_link,publication_title,publication_link]) #Update main database, each entry (row) is a story-to-anthology mapping \n",
    "\n",
    "add_stories_from_anthology('Sense of Wonder', 'https://csfquery.com/cworks?sortby=2&cid=37')\n",
    "add_stories_from_anthology('Science Fiction: Stories and Contexts','https://csfquery.com/cworks?sortby=2&cid=49')"
   ]
  },
  {
   "cell_type": "markdown",
   "metadata": {},
   "source": [
    "At this point you may want to save this mapping into a CSV file."
   ]
  },
  {
   "cell_type": "code",
   "execution_count": 97,
   "metadata": {
    "tags": []
   },
   "outputs": [],
   "source": [
    "main_df.to_csv('main.csv')"
   ]
  },
  {
   "cell_type": "markdown",
   "metadata": {},
   "source": [
    "If you're interested you can list the anthologies with the most classic stories:"
   ]
  },
  {
   "cell_type": "code",
   "execution_count": 96,
   "metadata": {},
   "outputs": [
    {
     "output_type": "execute_result",
     "data": {
      "text/plain": "Sense of Wonder                                             34\nThe Wesleyan Anthology of Science Fiction                   23\nScience Fiction: Stories and Contexts                       22\nThe Big Book of Science Fiction: The Ultimate Collection    22\nThe Science Fiction Hall of Fame, Volume One, 1929-1964     17\nName: publication_title, dtype: int64"
     },
     "metadata": {},
     "execution_count": 96
    }
   ],
   "source": [
    "main_df['publication_title'].value_counts().head()"
   ]
  },
  {
   "cell_type": "markdown",
   "metadata": {},
   "source": [
    "# Greedy algorithm\n",
    "\n",
    "One approach to solving the [set cover problem](https://en.wikipedia.org/wiki/Set_cover_problem) is the greedy algorithm implemented below."
   ]
  },
  {
   "cell_type": "code",
   "execution_count": 98,
   "metadata": {
    "tags": []
   },
   "outputs": [
    {
     "output_type": "stream",
     "name": "stdout",
     "text": "Chosen book:  Sense of Wonder\nChosen stories:  ['\"Arena\" by Fredric Brown', '\"Bears Discover Fire\" by Terry Bisson', '\"Black Destroyer\" by A. E. van Vogt', '\"Blood Music\" by Greg Bear', '\"Bloodchild\" by Octavia E. Butler', '\"The Cold Equations\" by Tom Godwin', '\"The Country of the Kind\" by Damon Knight', '\"Day Million\" by Frederik Pohl', '\"First Contact\" by Murray Leinster', '\"Fondly Fahrenheit\" by Alfred Bester', '\"The Game of Rat and Dragon\" by Cordwainer Smith', '\"Hell Is the Absence of God\" by Ted Chiang', '\"Jeffty Is Five\" by Harlan Ellison', '\"The Little Black Bag\" by C. M. Kornbluth', '\"Lobsters\" by Charles Stross', '\"The Lucky Strike\" by Kim Stanley Robinson', '\"A Martian Odyssey\" by Stanley G. Weinbaum', '\"Microcosmic God\" by Theodore Sturgeon', '\"The Mountains of Mourning\" by Lois McMaster Bujold', '\"Nightfall\" by Isaac Asimov', '\"The Only Neat Thing to Do\" by James Tiptree, Jr.', '\"Or All the Seas with Oysters\" by Avram Davidson', '\"Passengers\" by Robert Silverberg', '\"The Persistence of Vision\" by John Varley', '\"Rachel in Love\" by Pat Murphy', '\"A Rose for Ecclesiastes\" by Roger Zelazny', '\"The Sentinel\" by Arthur C. Clarke', '\"Seven American Nights\" by Gene Wolfe', '\"Souls\" by Joanna Russ', '\"Surface Tension\" by James Blish', '\"That Only a Mother\" by Judith Merril', '\"Think Like a Dinosaur\" by James Patrick Kelly', '\"The Ugly Chickens\" by Howard Waldrop', '\"Who Goes There?\" by John W. Campbell, Jr.']\nTotal stories selected:  34\nChosen book:  The Wesleyan Anthology of Science Fiction\nChosen stories:  ['\"\"Repent, Harlequin!\" Said the Ticktockman\" by Harlan Ellison', '\"Air Raid\" by John Varley', '\"All You Zombies—\" by Robert A. Heinlein', '\"And I Awoke and Found Me Here on the Cold Hill\\'s Side\" by James Tiptree, Jr.', '\"Aye, and Gomorrah …\" by Samuel R. Delany', '\"Burning Chrome\" by William Gibson', '\"Coming Attraction\" by Fritz Leiber', '\"Desertion\" by Clifford D. Simak', '\"Nine Lives\" by Ursula K. Le Guin', '\"Speech Sounds\" by Octavia E. Butler', '\"The Star\" by H. G. Wells', '\"There Will Come Soft Rains\" by Ray Bradbury', '\"Thunder and Roses\" by Theodore Sturgeon', '\"We Can Remember It for You Wholesale\" by Philip K. Dick', '\"When It Changed\" by Joanna Russ']\nTotal stories selected:  49\nChosen book:  Science Fiction: Stories and Contexts\nChosen stories:  ['\"At the Rialto\" by Connie Willis', '\"Flowers for Algernon\" by Daniel Keyes', '\"For a Breath I Tarry\" by Roger Zelazny', '\"The Girl Who Was Plugged In\" by James Tiptree, Jr.', '\"Mimsy Were the Borogoves\" by Henry Kuttner, C. L. Moore', '\"The Nine Billion Names of God\" by Arthur C. Clarke', '\"Second Variety\" by Philip K. Dick', '\"Story of Your Life\" by Ted Chiang', '\"Vaster Than Empires and More Slow\" by Ursula K. Le Guin', '\"Vintage Season\" by Henry Kuttner, C. L. Moore']\nTotal stories selected:  59\nChosen book:  The Big Book of Science Fiction: The Ultimate Collection\nChosen stories:  ['\"Sandkings\" by George R. R. Martin', '\"Snow\" by John Crowley', '\"Swarm\" by Bruce Sterling', '\"The Last Question\" by Isaac Asimov', '\"The Man Who Lost the Sea\" by Theodore Sturgeon', '\"The Star\" by Arthur C. Clarke', '\"The Voices of Time\" by J. G. Ballard']\nTotal stories selected:  66\nChosen book:  The Science Fiction Hall of Fame, Volume IV\nChosen stories:  ['\"A Meeting with Medusa\" by Arthur C. Clarke', '\"Born with the Dead\" by Robert Silverberg', '\"Of Mist, and Grass, and Sand\" by Vonda N. McIntyre', '\"The Day Before the Revolution\" by Ursula K. Le Guin', '\"The Death of Doctor Island\" by Gene Wolfe', '\"The Queen of Air and Darkness\" by Poul Anderson']\nTotal stories selected:  72\nChosen book:  The Best of the Nebulas\nChosen stories:  ['\"A Boy and His Dog\" by Harlan Ellison', '\"Houston, Houston, Do You Read?\" by James Tiptree, Jr.', '\"Time Considered as a Helix of Semi-Precious Stones\" by Samuel R. Delany']\nTotal stories selected:  75\nChosen book:  The Winds of Marble Arch and Other Stories\nChosen stories:  ['\"Even the Queen\" by Connie Willis', '\"Fire Watch\" by Connie Willis', '\"The Last of the Winnebagos\" by Connie Willis']\nTotal stories selected:  78\nChosen book:  Great Science Fiction of the 20th Century\nChosen stories:  ['\"Light of Other Days\" by Bob Shaw', '\"The Bicentennial Man\" by Isaac Asimov', '\"The Women Men Don\\'t See\" by James Tiptree, Jr.']\nTotal stories selected:  81\nChosen book:  The World Treasury of Science Fiction\nChosen stories:  ['\"Harrison Bergeron\" by Kurt Vonnegut, Jr.', '\"Inconstant Moon\" by Larry Niven', '\"The Fifth Head of Cerberus\" by Gene Wolfe']\nTotal stories selected:  84\nChosen book:  The Mammoth Book of Best Short SF Novels\nChosen stories:  ['\"Beggars in Spain\" by Nancy Kress', '\"Sailing to Byzantium\" by Robert Silverberg']\nTotal stories selected:  86\nChosen book:  The Oxford Book of Science Fiction Stories\nChosen stories:  ['\"The Screwfly Solution\" by James Tiptree, Jr.', '\"The Way of Cross and Dragon\" by George R. R. Martin']\nTotal stories selected:  88\nChosen book:  Beyond the Rift\nChosen stories:  ['\"The Island\" by Peter Watts', '\"The Things\" by Peter Watts']\nTotal stories selected:  90\nChosen book:  Survival Printout\nChosen stories:  ['\"I Have No Mouth, and I Must Scream\" by Harlan Ellison', '\"Scanners Live in Vain\" by Cordwainer Smith']\nTotal stories selected:  92\nChosen book:  Dreamsongs: A RRetrospective: Book One\nChosen stories:  ['\"A Song for Lya\" by George R. R. Martin']\nTotal stories selected:  93\nChosen book:  Novelties & Souvenirs: Collected Short Fiction\nChosen stories:  ['\"Great Work of Time\" by John Crowley']\nTotal stories selected:  94\nChosen book:  Yesterday's Tomorrows\nChosen stories:  ['\"The Moon Moth\" by Jack Vance']\nTotal stories selected:  95\nChosen book:  The Jaguar Hunter\nChosen stories:  ['\"R & R\" by Lucius Shepard']\nTotal stories selected:  96\nChosen book:  Alpha 5\nChosen stories:  ['\"The Star Pit\" by Samuel R. Delany']\nTotal stories selected:  97\nChosen book:  Press Enter ▮ / Hawksbill Station?Press Enter [] / Hawksbill Station\nChosen stories:  ['\"Press ENTER ■\" by John Varley']\nTotal stories selected:  98\nChosen book:  The Best Science Fiction and Fantasy of the Year Volume Six\nChosen stories:  ['\"The Man Who Bridged the Mist\" by Kij Johnson']\nTotal stories selected:  99\nChosen book:  The Year's Best Fantasy Stories: 14\nChosen stories:  ['\"Buffalo Gals, Won\\'t You Come Out Tonight\" by Ursula K. Le Guin']\nTotal stories selected:  100\nChosen book:  The Year's Best Fantasy & Horror 2008: Twenty-First Annual Collection\nChosen stories:  ['\"The Merchant and the Alchemist\\'s Gate\" by Ted Chiang']\nTotal stories selected:  101\nAll selected books:  ['Sense of Wonder', 'The Wesleyan Anthology of Science Fiction', 'Science Fiction: Stories and Contexts', 'The Big Book of Science Fiction: The Ultimate Collection', 'The Science Fiction Hall of Fame, Volume IV', 'The Best of the Nebulas', 'The Winds of Marble Arch and Other Stories', 'Great Science Fiction of the 20th Century', 'The World Treasury of Science Fiction', 'The Mammoth Book of Best Short SF Novels', 'The Oxford Book of Science Fiction Stories', 'Beyond the Rift', 'Survival Printout', 'Dreamsongs: A RRetrospective: Book One', 'Novelties & Souvenirs: Collected Short Fiction', \"Yesterday's Tomorrows\", 'The Jaguar Hunter', 'Alpha 5', 'Press Enter ▮ / Hawksbill Station?Press Enter [] / Hawksbill Station', 'The Best Science Fiction and Fantasy of the Year Volume Six', \"The Year's Best Fantasy Stories: 14\", \"The Year's Best Fantasy & Horror 2008: Twenty-First Annual Collection\"]\nTotal number of selected books:  22\n"
    }
   ],
   "source": [
    "import numpy as np\n",
    "remaining_df = main_df.copy() #Create working copy of main database\n",
    "remaining_df['story_desc']=remaining_df['story_title'] + ' by ' + remaining_df['story_author'] #Add new column of unique story description (the story title is not enough, there are two stories titled \"The Star\")\n",
    "selected_books = []\n",
    "selected_stories = []\n",
    "while (np.unique(np.array(selected_stories)).size < len(df.story_title)): #Loop until we have covered all stories\n",
    "    top_book = remaining_df['publication_title'].value_counts().head(1).index.values[0] #Find book with most stories\n",
    "    print(\"Chosen book: \",top_book)\n",
    "    selected_books.append(top_book)\n",
    "    stories_in_top_book = remaining_df[remaining_df.publication_title==top_book].story_desc.tolist()\n",
    "    selected_stories.extend(stories_in_top_book)\n",
    "    print(\"Chosen stories: \",stories_in_top_book)\n",
    "    remaining_df=remaining_df[~remaining_df.story_desc.isin(stories_in_top_book)] #Remove from database all entries of the stories we have selected\n",
    "    print(\"Total stories selected: \",np.unique(np.array(selected_stories)).size)\n",
    "print(\"All selected books: \",selected_books)\n",
    "print(\"Total number of selected books: \",len(selected_books))"
   ]
  },
  {
   "cell_type": "code",
   "execution_count": null,
   "metadata": {},
   "outputs": [],
   "source": []
  }
 ]
}