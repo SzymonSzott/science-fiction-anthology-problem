{
 "metadata": {
  "language_info": {
   "codemirror_mode": {
    "name": "ipython",
    "version": 3
   },
   "file_extension": ".py",
   "mimetype": "text/x-python",
   "name": "python",
   "nbconvert_exporter": "python",
   "pygments_lexer": "ipython3",
   "version": 3
  },
  "orig_nbformat": 2,
  "kernelspec": {
   "name": "python_defaultSpec_1596655349912",
   "display_name": "Python 3.7.6 64-bit ('base': conda)"
  }
 },
 "nbformat": 4,
 "nbformat_minor": 2,
 "cells": [
  {
   "cell_type": "markdown",
   "metadata": {},
   "source": [
    "# Parsing the list of short stories\n",
    "\n",
    "Solving the [science fiction anthology problem](https://auxiliarymemory.com/2018/08/18/the-mathematics-of-buying-science-fiction-anthologies/) first requires importing the [list of classic short stories v2](https://csfquery.com/SearchResult?mincite=8&category=story&sortby=7&list=1).\n",
    "\n"
   ]
  },
  {
   "cell_type": "code",
   "execution_count": 1,
   "metadata": {},
   "outputs": [],
   "source": [
    "import requests, bs4\n",
    "import pandas as pd\n",
    "\n",
    "res = requests.get('https://csfquery.com/SearchResult?mincite=8&category=story&sortby=7&list=1') #Download the webpage\n",
    "res.raise_for_status() #Check that download was OK\n",
    "soup = bs4.BeautifulSoup(res.text) #Parse HTML\n",
    "classics_table = soup.find(\"table\", attrs={\"class\": \"table pt-3\"}) #Find the table with the list of stories\n",
    "classics_table_data = classics_table.tbody.find_all(\"a\", attrs={\"class\": \"a-csf\"}) #Find all links in the table\n",
    "\n",
    "df = pd.DataFrame(columns=['story_author', 'story_title', 'story_link']) #Create dataframe for storing the list of stories\n",
    "for i in classics_table_data: #Loop over the links found previously \n",
    "    if \"title.cgi\" in i['href']:\n",
    "        story_link = i['href']\n",
    "        story_title = i.text\n",
    "    elif \"ea.cgi\" in i['href']:\n",
    "        story_author = i.text\n",
    "        df.loc[len(df)]=([story_author,story_title,story_link]) #Append dataframe with author, title, story link\n",
    "\n",
    "df = df.groupby(['story_title','story_link'])['story_author'].apply(', '.join).reset_index() # Merge entries for stories with more than one author"
   ]
  },
  {
   "cell_type": "markdown",
   "metadata": {},
   "source": [
    "# Creating a list of anthologies\n",
    "\n",
    "Having a database (`df`) of short stories, we now need to obtain the list of anthologies from ISFDB.org containing at least one story."
   ]
  },
  {
   "cell_type": "code",
   "execution_count": 3,
   "metadata": {
    "tags": []
   },
   "outputs": [],
   "source": [
    "main_df = pd.DataFrame(columns=['story_author', 'story_title', 'story_link','publication_title','publication_link']) #Create empty dataframe which will store a mapping between stories and anthologies\n",
    "for index, story_row in df.iterrows(): #Loop over all stories\n",
    "    story_author = story_row['story_author']\n",
    "    story_title = story_row['story_title']\n",
    "    story_link = story_row['story_link']\n",
    "    story_link += '+1' #Change the ISFDB link to \"Do not display translations\"\n",
    "    res = requests.get(story_link)\n",
    "    res.raise_for_status()\n",
    "    soup = bs4.BeautifulSoup(res.text)\n",
    "    publications_table = soup.find(\"table\", attrs={\"class\": \"publications\"}) #Find the table listing all publications of a story\n",
    "    publications_df = pd.read_html(str(publications_table), header=0)[0] #Read the HTML table into a dataframe (there could be more tables, but we're interested in the first, indexed 0)\n",
    "    publications_table_links = publications_table.find_all(\"a\") #Extract all HTML links from the table\n",
    "    publications_links = [] \n",
    "    for l in publications_table_links:\n",
    "        if \"pl.cgi\" in l['href']:\n",
    "            publications_links.append(l['href'])\n",
    "    publications_df['publications_links']=publications_links #Add column with links to anthologies to dataframe\n",
    "    publications_df = publications_df[publications_df.Type.isin(['anth','coll','omni'])] #Only anthologies, collections, and omnibuses are of interest, drop others\n",
    "    publications_df = publications_df.drop_duplicates(subset='Title', keep=\"first\") #Removing duplicates by exactle title match (this could be improved)\n",
    "    for index2, publication_row in publications_df.iterrows(): #Iterate over all publications\n",
    "        publication_title = publication_row['Title']\n",
    "        publication_link = publication_row['publications_links']\n",
    "        # print(\"Adding to main_df: \", story_title, \" in \", publication_title)\n",
    "        main_df.loc[len(main_df)]=([story_author,story_title,story_link,publication_title,publication_link]) #Update main database, each entry (row) is a story-to-anthology mapping"
   ]
  },
  {
   "cell_type": "markdown",
   "metadata": {},
   "source": [
    "At this point you may want to save this mapping into a CSV file."
   ]
  },
  {
   "cell_type": "code",
   "execution_count": 62,
   "metadata": {
    "tags": []
   },
   "outputs": [],
   "source": [
    "main_df.to_csv('main.csv')"
   ]
  },
  {
   "cell_type": "markdown",
   "metadata": {},
   "source": [
    "If you're interested you can list the anthologies with the most classic stories:"
   ]
  },
  {
   "cell_type": "code",
   "execution_count": 33,
   "metadata": {},
   "outputs": [
    {
     "output_type": "execute_result",
     "data": {
      "text/plain": "The Wesleyan Anthology of Science Fiction                   23\nThe Big Book of Science Fiction: The Ultimate Collection    22\nName: publication_title, dtype: int64"
     },
     "metadata": {},
     "execution_count": 33
    }
   ],
   "source": [
    "main_df['publication_title'].value_counts().head()"
   ]
  },
  {
   "cell_type": "markdown",
   "metadata": {},
   "source": [
    "# Greedy algorithm\n",
    "\n",
    "One approach to solving the [set cover problem](https://en.wikipedia.org/wiki/Set_cover_problem) is the greedy algorithm implemented below."
   ]
  },
  {
   "cell_type": "code",
   "execution_count": 68,
   "metadata": {
    "tags": []
   },
   "outputs": [
    {
     "output_type": "stream",
     "name": "stdout",
     "text": "Chosen book:  The Wesleyan Anthology of Science Fiction\nChosen stories:  ['\"\"Repent, Harlequin!\" Said the Ticktockman\" by Harlan Ellison', '\"A Martian Odyssey\" by Stanley G. Weinbaum', '\"Air Raid\" by John Varley', '\"All You Zombies—\" by Robert A. Heinlein', '\"And I Awoke and Found Me Here on the Cold Hill\\'s Side\" by James Tiptree, Jr.', '\"Aye, and Gomorrah …\" by Samuel R. Delany', '\"Burning Chrome\" by William Gibson', '\"Coming Attraction\" by Fritz Leiber', '\"Day Million\" by Frederik Pohl', '\"Desertion\" by Clifford D. Simak', '\"Fondly Fahrenheit\" by Alfred Bester', '\"Nine Lives\" by Ursula K. Le Guin', '\"Passengers\" by Robert Silverberg', '\"Speech Sounds\" by Octavia E. Butler', '\"That Only a Mother\" by Judith Merril', '\"The Game of Rat and Dragon\" by Cordwainer Smith', '\"The Sentinel\" by Arthur C. Clarke', '\"The Star\" by H. G. Wells', '\"There Will Come Soft Rains\" by Ray Bradbury', '\"Think Like a Dinosaur\" by James Patrick Kelly', '\"Thunder and Roses\" by Theodore Sturgeon', '\"We Can Remember It for You Wholesale\" by Philip K. Dick', '\"When It Changed\" by Joanna Russ']\nTotal stories selected:  23\nChosen book:  The Science Fiction Hall of Fame, Volume One\nChosen stories:  ['\"A Rose for Ecclesiastes\" by Roger Zelazny', '\"Arena\" by Fredric Brown', '\"First Contact\" by Murray Leinster', '\"Flowers for Algernon\" by Daniel Keyes', '\"Microcosmic God\" by Theodore Sturgeon', '\"Mimsy Were the Borogoves\" by Henry Kuttner, C. L. Moore', '\"Nightfall\" by Isaac Asimov', '\"Scanners Live in Vain\" by Cordwainer Smith', '\"Surface Tension\" by James Blish', '\"The Cold Equations\" by Tom Godwin', '\"The Country of the Kind\" by Damon Knight', '\"The Little Black Bag\" by C. M. Kornbluth', '\"The Nine Billion Names of God\" by Arthur C. Clarke']\nTotal stories selected:  36\nChosen book:  The Locus Awards: Thirty Years of the Best in Fantasy and Science Fiction\nChosen stories:  ['\"Bears Discover Fire\" by Terry Bisson', '\"Bloodchild\" by Octavia E. Butler', '\"Even the Queen\" by Connie Willis', '\"Hell Is the Absence of God\" by Ted Chiang', '\"Jeffty Is Five\" by Harlan Ellison', '\"Rachel in Love\" by Pat Murphy', '\"Souls\" by Joanna Russ', '\"The Day Before the Revolution\" by Ursula K. Le Guin', '\"The Death of Doctor Island\" by Gene Wolfe', '\"The Only Neat Thing to Do\" by James Tiptree, Jr.', '\"The Persistence of Vision\" by John Varley', '\"The Way of Cross and Dragon\" by George R. R. Martin']\nTotal stories selected:  48\nChosen book:  The Big Book of Science Fiction: The Ultimate Collection\nChosen stories:  ['\"Blood Music\" by Greg Bear', '\"Sandkings\" by George R. R. Martin', '\"Snow\" by John Crowley', '\"Story of Your Life\" by Ted Chiang', '\"Swarm\" by Bruce Sterling', '\"The Last Question\" by Isaac Asimov', '\"The Man Who Lost the Sea\" by Theodore Sturgeon', '\"The Star\" by Arthur C. Clarke', '\"The Voices of Time\" by J. G. Ballard', '\"Vaster Than Empires and More Slow\" by Ursula K. Le Guin']\nTotal stories selected:  58\nChosen book:  The World Treasury of Science Fiction\nChosen stories:  ['\"A Meeting with Medusa\" by Arthur C. Clarke', '\"Harrison Bergeron\" by Kurt Vonnegut, Jr.', '\"Inconstant Moon\" by Larry Niven', '\"Second Variety\" by Philip K. Dick', '\"The Fifth Head of Cerberus\" by Gene Wolfe', '\"Vintage Season\" by Henry Kuttner, C. L. Moore']\nTotal stories selected:  64\nChosen book:  Great Science Fiction of the 20th Century\nChosen stories:  ['\"Light of Other Days\" by Bob Shaw', '\"Of Mist, and Grass, and Sand\" by Vonda N. McIntyre', '\"Or All the Seas with Oysters\" by Avram Davidson', '\"The Bicentennial Man\" by Isaac Asimov', '\"The Queen of Air and Darkness\" by Poul Anderson', '\"The Women Men Don\\'t See\" by James Tiptree, Jr.']\nTotal stories selected:  70\nChosen book:  The Arbor House Treasury of Great Science Fiction Short Novels\nChosen stories:  ['\"Born with the Dead\" by Robert Silverberg', '\"Houston, Houston, Do You Read?\" by James Tiptree, Jr.', '\"The Star Pit\" by Samuel R. Delany']\nTotal stories selected:  73\nChosen book:  The Science Fiction Century\nChosen stories:  ['\"Beggars in Spain\" by Nancy Kress', '\"Fire Watch\" by Connie Willis', '\"Great Work of Time\" by John Crowley']\nTotal stories selected:  76\nChosen book:  Nebula Award-Winning Novellas\nChosen stories:  ['\"Sailing to Byzantium\" by Robert Silverberg', '\"The Last of the Winnebagos\" by Connie Willis', '\"The Mountains of Mourning\" by Lois McMaster Bujold']\nTotal stories selected:  79\nChosen book:  Famous Science-Fiction Stories: Adventures in Time and Space\nChosen stories:  ['\"Black Destroyer\" by A. E. van Vogt', '\"Who Goes There?\" by John W. Campbell, Jr.']\nTotal stories selected:  81\nChosen book:  The Hugo Winners, Volume Two\nChosen stories:  ['\"I Have No Mouth, and I Must Scream\" by Harlan Ellison', '\"Time Considered as a Helix of Semi-Precious Stones\" by Samuel R. Delany']\nTotal stories selected:  83\nChosen book:  The Legend Book of Science Fiction\nChosen stories:  ['\"The Moon Moth\" by Jack Vance', '\"The Ugly Chickens\" by Howard Waldrop']\nTotal stories selected:  85\nChosen book:  Best Science Fiction of the Year 14\nChosen stories:  ['\"Press ENTER ■\" by John Varley', '\"The Lucky Strike\" by Kim Stanley Robinson']\nTotal stories selected:  87\nChosen book:  The Hugo Winners, Volume Three, Part Three: 1974-1975\nChosen stories:  ['\"A Song for Lya\" by George R. R. Martin', '\"The Girl Who Was Plugged In\" by James Tiptree, Jr.']\nTotal stories selected:  89\nChosen book:  Beyond the Rift\nChosen stories:  ['\"The Island\" by Peter Watts', '\"The Things\" by Peter Watts']\nTotal stories selected:  91\nChosen book:  Armageddons\nChosen stories:  ['\"The Screwfly Solution\" by James Tiptree, Jr.']\nTotal stories selected:  92\nChosen book:  Nebula Awards Showcase 2009: The Year's Best SF and Fantasy\nChosen stories:  ['\"The Merchant and the Alchemist\\'s Gate\" by Ted Chiang']\nTotal stories selected:  93\nChosen book:  The Science Fiction Hall of Fame Volume Four\nChosen stories:  ['\"A Boy and His Dog\" by Harlan Ellison']\nTotal stories selected:  94\nChosen book:  Power & Light: Volume 2: The Collected Stories of Roger Zelazny\nChosen stories:  ['\"For a Breath I Tarry\" by Roger Zelazny']\nTotal stories selected:  95\nChosen book:  The Mammoth Book of Best New Science Fiction: 15th Annual Collection\nChosen stories:  ['\"Lobsters\" by Charles Stross']\nTotal stories selected:  96\nChosen book:  The Best of Lucius Shepard\nChosen stories:  ['\"R & R\" by Lucius Shepard']\nTotal stories selected:  97\nChosen book:  Impossible Things\nChosen stories:  ['\"At the Rialto\" by Connie Willis']\nTotal stories selected:  98\nChosen book:  The Year's Best Science Fiction & Fantasy 2012\nChosen stories:  ['\"The Man Who Bridged the Mist\" by Kij Johnson']\nTotal stories selected:  99\nChosen book:  Best Science Fiction Stories of the Year: Eighth Annual Collection\nChosen stories:  ['\"Seven American Nights\" by Gene Wolfe']\nTotal stories selected:  100\nChosen book:  The Year's Best Science Fiction: Fifth Annual Collection\nChosen stories:  ['\"Buffalo Gals, Won\\'t You Come Out Tonight\" by Ursula K. Le Guin']\nTotal stories selected:  101\nAll selected books:  ['The Wesleyan Anthology of Science Fiction', 'The Science Fiction Hall of Fame, Volume One', 'The Locus Awards: Thirty Years of the Best in Fantasy and Science Fiction', 'The Big Book of Science Fiction: The Ultimate Collection', 'The World Treasury of Science Fiction', 'Great Science Fiction of the 20th Century', 'The Arbor House Treasury of Great Science Fiction Short Novels', 'The Science Fiction Century', 'Nebula Award-Winning Novellas', 'Famous Science-Fiction Stories: Adventures in Time and Space', 'The Hugo Winners, Volume Two', 'The Legend Book of Science Fiction', 'Best Science Fiction of the Year 14', 'The Hugo Winners, Volume Three, Part Three: 1974-1975', 'Beyond the Rift', 'Armageddons', \"Nebula Awards Showcase 2009: The Year's Best SF and Fantasy\", 'The Science Fiction Hall of Fame Volume Four', 'Power & Light: Volume 2: The Collected Stories of Roger Zelazny', 'The Mammoth Book of Best New Science Fiction: 15th Annual Collection', 'The Best of Lucius Shepard', 'Impossible Things', \"The Year's Best Science Fiction & Fantasy 2012\", 'Best Science Fiction Stories of the Year: Eighth Annual Collection', \"The Year's Best Science Fiction: Fifth Annual Collection\"]\nTotal number of selected books:  25\n"
    }
   ],
   "source": [
    "import numpy as np\n",
    "remaining_df = main_df #Create working copy of main database\n",
    "remaining_df['story_desc']=remaining_df['story_title'] + ' by ' + remaining_df['story_author'] #Add new column of unique story description (the story title is not enough, there are two stories titled \"The Star\")\n",
    "selected_books = []\n",
    "selected_stories = []\n",
    "while (np.unique(np.array(selected_stories)).size < len(df.story_title)): #Loop until we have covered all stories\n",
    "    top_book = remaining_df['publication_title'].value_counts().head(1).index.values[0] #Find book with most stories\n",
    "    print(\"Chosen book: \",top_book)\n",
    "    selected_books.append(top_book)\n",
    "    stories_in_top_book = remaining_df[remaining_df.publication_title==top_book].story_desc.tolist()\n",
    "    selected_stories.extend(stories_in_top_book)\n",
    "    print(\"Chosen stories: \",stories_in_top_book)\n",
    "    remaining_df=remaining_df[~remaining_df.story_desc.isin(stories_in_top_book)] #Remove from database all entries of the stories we have selected\n",
    "    print(\"Total stories selected: \",np.unique(np.array(selected_stories)).size)\n",
    "print(\"All selected books: \",selected_books)\n",
    "print(\"Total number of selected books: \",len(selected_books))"
   ]
  }
 ]
}